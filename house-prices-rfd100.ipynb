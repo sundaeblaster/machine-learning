{
 "cells": [
  {
   "cell_type": "code",
   "execution_count": 3,
   "metadata": {
    "_cell_guid": "b1076dfc-b9ad-4769-8c92-a6c4dae69d19",
    "_uuid": "8f2839f25d086af736a60e9eeb907d3b93b6e0e5",
    "execution": {
     "iopub.execute_input": "2023-07-28T17:45:02.453865Z",
     "iopub.status.busy": "2023-07-28T17:45:02.453448Z",
     "iopub.status.idle": "2023-07-28T17:45:02.931441Z",
     "shell.execute_reply": "2023-07-28T17:45:02.930106Z",
     "shell.execute_reply.started": "2023-07-28T17:45:02.453829Z"
    }
   },
   "outputs": [
    {
     "name": "stdout",
     "output_type": "stream",
     "text": [
      "23483.29\n"
     ]
    }
   ],
   "source": [
    "# Programmer: Sameer Nathawat\n",
    "# Date Modified: July 28, 2023\n",
    "\n",
    "# In this version, I experimented with a new model, RandomForestRegressor.\n",
    "\n",
    "# In past versions, I had been using the DecisionTreeRegressor model to fit my training\n",
    "# data and make predictions using my validation data. However, using a RandomForestRegressor\n",
    "# can be more advantageous in reducing the mean absolute error (MAE). A random forest uses\n",
    "# many decision trees and averages the predictions of each individual decision tree. In my\n",
    "# case, I used a RandomForestRegressor with the deafault parameters to gauge how effective\n",
    "# it could predict the data in my example. It was more effective with a MAE of 23483.29.\n",
    "\n",
    "import numpy as np # linear algebra\n",
    "import pandas as pd # data processing, CSV file I/O (e.g. pd.read_csv)\n",
    "from sklearn.ensemble import RandomForestRegressor\n",
    "from sklearn.model_selection import train_test_split\n",
    "from sklearn.metrics import mean_absolute_error\n",
    "import os\n",
    "\n",
    "# reading the csv files\n",
    "house_prices_train = pd.read_csv('/kaggle/input/house-prices-advanced-regression-techniques/train.csv')\n",
    "# house_prices_test = pd.read_csv('/kaggle/input/house-prices-advanced-regression-techniques/test.csv')\n",
    "\n",
    "# creating a list of features\n",
    "features = ['LotArea', 'YearBuilt', 'OverallQual', 'TotRmsAbvGrd']\n",
    "# training dataframe with selected features\n",
    "X = house_prices_train[features]\n",
    "# training label/target\n",
    "y = house_prices_train.SalePrice\n",
    "\n",
    "# splitting the data into a testing and validation set\n",
    "train_X, val_X, train_y, val_y = train_test_split(X, y, random_state = 1)\n",
    "\n",
    "# # testing dataframe with selected features\n",
    "# test_X = house_prices_test[features]\n",
    "# # testing label/target\n",
    "# print(house_prices_test.columns)\n",
    "# test_y = house_prices_test.SalePrice\n",
    "\n",
    "\n",
    "# creating the model \n",
    "house_prices_model = RandomForestRegressor()\n",
    "# fit the model\n",
    "house_prices_model.fit(train_X, train_y)\n",
    "# make predictions using the test data\n",
    "predictions = house_prices_model.predict(val_X)\n",
    "# compute mean absolute error\n",
    "error = mean_absolute_error(predictions, val_y)\n",
    "print('%.2f' % error)\n"
   ]
  }
 ],
 "metadata": {
  "kernelspec": {
   "display_name": "Python 3 (ipykernel)",
   "language": "python",
   "name": "python3"
  },
  "language_info": {
   "codemirror_mode": {
    "name": "ipython",
    "version": 3
   },
   "file_extension": ".py",
   "mimetype": "text/x-python",
   "name": "python",
   "nbconvert_exporter": "python",
   "pygments_lexer": "ipython3",
   "version": "3.10.9"
  }
 },
 "nbformat": 4,
 "nbformat_minor": 4
}
