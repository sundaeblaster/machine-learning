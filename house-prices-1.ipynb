{
 "cells": [
  {
   "cell_type": "code",
   "execution_count": 1,
   "metadata": {
    "_cell_guid": "b1076dfc-b9ad-4769-8c92-a6c4dae69d19",
    "_uuid": "8f2839f25d086af736a60e9eeb907d3b93b6e0e5",
    "execution": {
     "iopub.execute_input": "2023-07-27T18:05:41.439238Z",
     "iopub.status.busy": "2023-07-27T18:05:41.438837Z",
     "iopub.status.idle": "2023-07-27T18:05:41.484965Z",
     "shell.execute_reply": "2023-07-27T18:05:41.484114Z",
     "shell.execute_reply.started": "2023-07-27T18:05:41.439206Z"
    }
   },
   "outputs": [
    {
     "ename": "ModuleNotFoundError",
     "evalue": "No module named 'numpy'",
     "output_type": "error",
     "traceback": [
      "\u001b[0;31m---------------------------------------------------------------------------\u001b[0m",
      "\u001b[0;31mModuleNotFoundError\u001b[0m                       Traceback (most recent call last)",
      "Input \u001b[0;32mIn [1]\u001b[0m, in \u001b[0;36m<cell line: 6>\u001b[0;34m()\u001b[0m\n\u001b[1;32m      1\u001b[0m \u001b[38;5;66;03m# Programmer: Sameer Nathawat\u001b[39;00m\n\u001b[1;32m      2\u001b[0m \u001b[38;5;66;03m# Date Modified: July 28, 2023\u001b[39;00m\n\u001b[1;32m      3\u001b[0m \n\u001b[1;32m      4\u001b[0m \u001b[38;5;66;03m# In this version, I edited the parameters of the DecisionTreeRegressor.\u001b[39;00m\n\u001b[0;32m----> 6\u001b[0m \u001b[38;5;28;01mimport\u001b[39;00m \u001b[38;5;21;01mnumpy\u001b[39;00m \u001b[38;5;28;01mas\u001b[39;00m \u001b[38;5;21;01mnp\u001b[39;00m \u001b[38;5;66;03m# linear algebra\u001b[39;00m\n\u001b[1;32m      7\u001b[0m \u001b[38;5;28;01mimport\u001b[39;00m \u001b[38;5;21;01mpandas\u001b[39;00m \u001b[38;5;28;01mas\u001b[39;00m \u001b[38;5;21;01mpd\u001b[39;00m \u001b[38;5;66;03m# data processing, CSV file I/O (e.g. pd.read_csv)\u001b[39;00m\n\u001b[1;32m      8\u001b[0m \u001b[38;5;28;01mfrom\u001b[39;00m \u001b[38;5;21;01msklearn\u001b[39;00m\u001b[38;5;21;01m.\u001b[39;00m\u001b[38;5;21;01mtree\u001b[39;00m \u001b[38;5;28;01mimport\u001b[39;00m DecisionTreeRegressor\n",
      "\u001b[0;31mModuleNotFoundError\u001b[0m: No module named 'numpy'"
     ]
    }
   ],
   "source": [
    "# Programmer: Sameer Nathawat\n",
    "# Date Modified: July 28, 2023\n",
    "\n",
    "# In this version, I edited the parameters of the DecisionTreeRegressor.\n",
    "\n",
    "import numpy as np # linear algebra\n",
    "import pandas as pd # data processing, CSV file I/O (e.g. pd.read_csv)\n",
    "from sklearn.tree import DecisionTreeRegressor\n",
    "from sklearn.model_selection import train_test_split\n",
    "from sklearn.metrics import mean_absolute_error\n",
    "import os\n",
    "        \n",
    "# reading the csv files\n",
    "house_prices_train = pd.read_csv('/kaggle/input/house-prices-advanced-regression-techniques/train.csv')\n",
    "# house_prices_test = pd.read_csv('/kaggle/input/house-prices-advanced-regression-techniques/test.csv')\n",
    "\n",
    "# creating a list of features\n",
    "features = ['LotArea', 'YearBuilt', 'OverallQual', 'TotRmsAbvGrd']\n",
    "# training dataframe with selected features\n",
    "X = house_prices_train[features]\n",
    "# training label/target\n",
    "y = house_prices_train.SalePrice\n",
    "\n",
    "# splitting the data into a testing and validation set\n",
    "train_X, val_X, train_y, val_y = train_test_split(X, y, random_state = 1)\n",
    "\n",
    "# # testing dataframe with selected features\n",
    "# test_X = house_prices_test[features]\n",
    "# # testing label/target\n",
    "# print(house_prices_test.columns)\n",
    "# test_y = house_prices_test.SalePrice\n",
    "\n",
    "\n",
    "# creating the model \n",
    "house_prices_model = DecisionTreeRegressor(random_state = 1)\n",
    "# fit the model\n",
    "house_prices_model.fit(train_X, train_y)\n",
    "# make predictions using the test data\n",
    "predictions = house_prices_model.predict(val_X)\n",
    "# compute mean absolute error\n",
    "error = mean_absolute_error(predictions, val_y)\n",
    "print('%.2f' % error)"
   ]
  },
  {
   "cell_type": "code",
   "execution_count": null,
   "metadata": {},
   "outputs": [],
   "source": []
  }
 ],
 "metadata": {
  "kernelspec": {
   "display_name": "Python 3 (ipykernel)",
   "language": "python",
   "name": "python3"
  },
  "language_info": {
   "codemirror_mode": {
    "name": "ipython",
    "version": 3
   },
   "file_extension": ".py",
   "mimetype": "text/x-python",
   "name": "python",
   "nbconvert_exporter": "python",
   "pygments_lexer": "ipython3",
   "version": "3.10.9"
  }
 },
 "nbformat": 4,
 "nbformat_minor": 4
}
